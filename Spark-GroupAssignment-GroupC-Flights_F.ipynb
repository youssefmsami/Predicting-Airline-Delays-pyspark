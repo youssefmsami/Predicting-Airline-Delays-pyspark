{
 "cells": [
  {
   "cell_type": "code",
   "execution_count": 2,
   "metadata": {},
   "outputs": [
    {
     "name": "stdout",
     "output_type": "stream",
     "text": [
      "/usr/share/spark\n"
     ]
    }
   ],
   "source": [
    "import os\n",
    "\n",
    "print(os.environ['SPARK_HOME'])"
   ]
  },
  {
   "cell_type": "markdown",
   "metadata": {},
   "source": [
    "# Challenge 2 : Predicting Airline Delays\n",
    "Every year approximately 20% of airline flights are delayed or cancelled, resulting in significant\n",
    "costs to both travellers and airlines.\n",
    "Objective\n",
    "​\n",
    ":\n",
    "Build a predictive model capable of predicting airline \n",
    "​\n",
    "departure\n",
    "​\n",
    "​\n",
    "delay\n",
    "​\n",
    "​\n",
    "from San Francisco CA\n",
    "( SFO ) to the other airports in the dataset. \n",
    "​\n",
    "Note\n",
    "​\n",
    " it is possible to add weather information to\n",
    "improve model accuracy"
   ]
  },
  {
   "cell_type": "markdown",
   "metadata": {},
   "source": [
    "## Importing Libraries"
   ]
  },
  {
   "cell_type": "code",
   "execution_count": 122,
   "metadata": {},
   "outputs": [],
   "source": [
    "import findspark\n",
    "findspark.init()\n",
    "import pyspark\n",
    "import matplotlib.pyplot as plt\n",
    "import seaborn as sns\n",
    "import pandas as pd\n",
    "import numpy as np\n",
    "from sklearn import preprocessing\n",
    "from datetime import datetime\n",
    "from pyspark.sql.functions import col, udf,to_date,unix_timestamp,from_unixtime,isnan, when, count\n",
    "from pyspark.sql.types import DateType\n",
    "from pyspark.sql.functions import date_format\n",
    "from pyspark.sql.functions import year, month, dayofmonth, hour"
   ]
  },
  {
   "cell_type": "markdown",
   "metadata": {},
   "source": [
    "## Create Spark Session"
   ]
  },
  {
   "cell_type": "code",
   "execution_count": 4,
   "metadata": {},
   "outputs": [],
   "source": [
    "from pyspark.sql import SparkSession\n",
    "spark = SparkSession \\\n",
    "    .builder \\\n",
    "    .master(\"spark://data1p:7077\") \\\n",
    "    .appName(\"Final-Assignment-Group3-AirlineDelays\") \\\n",
    "    .getOrCreate()"
   ]
  },
  {
   "cell_type": "markdown",
   "metadata": {},
   "source": [
    "## Load Flights Data"
   ]
  },
  {
   "cell_type": "code",
   "execution_count": 5,
   "metadata": {},
   "outputs": [],
   "source": [
    "dataset_path=\"/data/shared/spark/challenge_2/\""
   ]
  },
  {
   "cell_type": "code",
   "execution_count": 6,
   "metadata": {},
   "outputs": [],
   "source": [
    "# Read in all available data files into a data frame\n",
    "df = spark.read \\\n",
    "    .option(\"header\", \"true\") \\\n",
    "    .option(\"inferSchema\", \"true\") \\\n",
    "    .csv(\"file://\"+dataset_path+\"On_Time*.csv\") "
   ]
  },
  {
   "cell_type": "code",
   "execution_count": 13,
   "metadata": {},
   "outputs": [
    {
     "name": "stdout",
     "output_type": "stream",
     "text": [
      "root\n",
      " |-- Year: integer (nullable = true)\n",
      " |-- Quarter: integer (nullable = true)\n",
      " |-- Month: integer (nullable = true)\n",
      " |-- DayofMonth: integer (nullable = true)\n",
      " |-- DayOfWeek: integer (nullable = true)\n",
      " |-- FlightDate: timestamp (nullable = true)\n",
      " |-- UniqueCarrier: string (nullable = true)\n",
      " |-- AirlineID: integer (nullable = true)\n",
      " |-- Carrier: string (nullable = true)\n",
      " |-- TailNum: string (nullable = true)\n",
      " |-- FlightNum: integer (nullable = true)\n",
      " |-- OriginAirportID: integer (nullable = true)\n",
      " |-- OriginAirportSeqID: integer (nullable = true)\n",
      " |-- OriginCityMarketID: integer (nullable = true)\n",
      " |-- Origin: string (nullable = true)\n",
      " |-- OriginCityName: string (nullable = true)\n",
      " |-- OriginState: string (nullable = true)\n",
      " |-- OriginStateFips: integer (nullable = true)\n",
      " |-- OriginStateName: string (nullable = true)\n",
      " |-- OriginWac: integer (nullable = true)\n",
      " |-- DestAirportID: integer (nullable = true)\n",
      " |-- DestAirportSeqID: integer (nullable = true)\n",
      " |-- DestCityMarketID: integer (nullable = true)\n",
      " |-- Dest: string (nullable = true)\n",
      " |-- DestCityName: string (nullable = true)\n",
      " |-- DestState: string (nullable = true)\n",
      " |-- DestStateFips: integer (nullable = true)\n",
      " |-- DestStateName: string (nullable = true)\n",
      " |-- DestWac: integer (nullable = true)\n",
      " |-- CRSDepTime: integer (nullable = true)\n",
      " |-- DepTime: integer (nullable = true)\n",
      " |-- DepDelay: double (nullable = true)\n",
      " |-- DepDelayMinutes: double (nullable = true)\n",
      " |-- DepDel15: double (nullable = true)\n",
      " |-- DepartureDelayGroups: integer (nullable = true)\n",
      " |-- DepTimeBlk: string (nullable = true)\n",
      " |-- TaxiOut: double (nullable = true)\n",
      " |-- WheelsOff: integer (nullable = true)\n",
      " |-- WheelsOn: integer (nullable = true)\n",
      " |-- TaxiIn: double (nullable = true)\n",
      " |-- CRSArrTime: integer (nullable = true)\n",
      " |-- ArrTime: integer (nullable = true)\n",
      " |-- ArrDelay: double (nullable = true)\n",
      " |-- ArrDelayMinutes: double (nullable = true)\n",
      " |-- ArrDel15: double (nullable = true)\n",
      " |-- ArrivalDelayGroups: integer (nullable = true)\n",
      " |-- ArrTimeBlk: string (nullable = true)\n",
      " |-- Cancelled: double (nullable = true)\n",
      " |-- CancellationCode: string (nullable = true)\n",
      " |-- Diverted: double (nullable = true)\n",
      " |-- CRSElapsedTime: double (nullable = true)\n",
      " |-- ActualElapsedTime: double (nullable = true)\n",
      " |-- AirTime: double (nullable = true)\n",
      " |-- Flights: double (nullable = true)\n",
      " |-- Distance: double (nullable = true)\n",
      " |-- DistanceGroup: integer (nullable = true)\n",
      " |-- CarrierDelay: double (nullable = true)\n",
      " |-- WeatherDelay: double (nullable = true)\n",
      " |-- NASDelay: double (nullable = true)\n",
      " |-- SecurityDelay: double (nullable = true)\n",
      " |-- LateAircraftDelay: double (nullable = true)\n",
      " |-- FirstDepTime: integer (nullable = true)\n",
      " |-- TotalAddGTime: double (nullable = true)\n",
      " |-- LongestAddGTime: double (nullable = true)\n",
      " |-- DivAirportLandings: integer (nullable = true)\n",
      " |-- DivReachedDest: double (nullable = true)\n",
      " |-- DivActualElapsedTime: double (nullable = true)\n",
      " |-- DivArrDelay: double (nullable = true)\n",
      " |-- DivDistance: double (nullable = true)\n",
      " |-- Div1Airport: string (nullable = true)\n",
      " |-- Div1AirportID: integer (nullable = true)\n",
      " |-- Div1AirportSeqID: integer (nullable = true)\n",
      " |-- Div1WheelsOn: integer (nullable = true)\n",
      " |-- Div1TotalGTime: double (nullable = true)\n",
      " |-- Div1LongestGTime: double (nullable = true)\n",
      " |-- Div1WheelsOff: integer (nullable = true)\n",
      " |-- Div1TailNum: string (nullable = true)\n",
      " |-- Div2Airport: string (nullable = true)\n",
      " |-- Div2AirportID: integer (nullable = true)\n",
      " |-- Div2AirportSeqID: integer (nullable = true)\n",
      " |-- Div2WheelsOn: integer (nullable = true)\n",
      " |-- Div2TotalGTime: double (nullable = true)\n",
      " |-- Div2LongestGTime: double (nullable = true)\n",
      " |-- Div2WheelsOff: integer (nullable = true)\n",
      " |-- Div2TailNum: string (nullable = true)\n",
      " |-- Div3Airport: string (nullable = true)\n",
      " |-- Div3AirportID: integer (nullable = true)\n",
      " |-- Div3AirportSeqID: integer (nullable = true)\n",
      " |-- Div3WheelsOn: integer (nullable = true)\n",
      " |-- Div3TotalGTime: double (nullable = true)\n",
      " |-- Div3LongestGTime: double (nullable = true)\n",
      " |-- Div3WheelsOff: string (nullable = true)\n",
      " |-- Div3TailNum: string (nullable = true)\n",
      " |-- Div4Airport: string (nullable = true)\n",
      " |-- Div4AirportID: string (nullable = true)\n",
      " |-- Div4AirportSeqID: string (nullable = true)\n",
      " |-- Div4WheelsOn: string (nullable = true)\n",
      " |-- Div4TotalGTime: string (nullable = true)\n",
      " |-- Div4LongestGTime: string (nullable = true)\n",
      " |-- Div4WheelsOff: string (nullable = true)\n",
      " |-- Div4TailNum: string (nullable = true)\n",
      " |-- Div5Airport: string (nullable = true)\n",
      " |-- Div5AirportID: string (nullable = true)\n",
      " |-- Div5AirportSeqID: string (nullable = true)\n",
      " |-- Div5WheelsOn: string (nullable = true)\n",
      " |-- Div5TotalGTime: string (nullable = true)\n",
      " |-- Div5LongestGTime: string (nullable = true)\n",
      " |-- Div5WheelsOff: string (nullable = true)\n",
      " |-- Div5TailNum: string (nullable = true)\n",
      " |-- _c109: string (nullable = true)\n",
      "\n"
     ]
    }
   ],
   "source": [
    "df.printSchema()"
   ]
  },
  {
   "cell_type": "code",
   "execution_count": 12,
   "metadata": {
    "scrolled": true
   },
   "outputs": [
    {
     "data": {
      "text/plain": [
       "27365586"
      ]
     },
     "execution_count": 12,
     "metadata": {},
     "output_type": "execute_result"
    }
   ],
   "source": [
    "df.count()"
   ]
  },
  {
   "cell_type": "code",
   "execution_count": 123,
   "metadata": {},
   "outputs": [],
   "source": [
    "df=df.select(\"Year\",\"Quarter\",\"Month\",\"DayofMonth\",\"DayOfWeek\",\"UniqueCarrier\",\"AirlineID\",\"Carrier\",\"TailNum\",\"FlightNum\",\"OriginAirportID\",\"OriginAirportSeqID\",\"OriginCityMarketID\",\"Origin\",\"OriginCityName\",\"OriginState\",\"OriginStateFips\",\"OriginStateName\",\"OriginWac\",\"DestAirportID\",\"DestAirportSeqID\",\"DestCityMarketID\",\"Dest\",\"DestCityName\",\"DestState\",\"DestStateFips\",\"DestStateName\",\"DestWac\",\"CRSDepTime\",\"DepTime\",\"DepDelay\",\"DepDelayMinutes\",\"DepDel15\",\"DepartureDelayGroups\",\"DepTimeBlk\",\"TaxiOut\",\"WheelsOff\",\"WheelsOn\",\"TaxiIn\",\"CRSArrTime\",\"ArrTime\",\"ArrDelay\",\"ArrDelayMinutes\",\"ArrDel15\",\"ArrivalDelayGroups\",\"ArrTimeBlk\",\"Cancelled\",\"CancellationCode\",\"Diverted\",\"CRSElapsedTime\",\"ActualElapsedTime\",\"AirTime\",\"Flights\",\"Distance\",\"DistanceGroup\")"
   ]
  },
  {
   "cell_type": "markdown",
   "metadata": {},
   "source": [
    "## Filter Data for only San francisco"
   ]
  },
  {
   "cell_type": "code",
   "execution_count": 309,
   "metadata": {},
   "outputs": [],
   "source": [
    "df_SFO=df.filter(df['origin']=='SFO')"
   ]
  },
  {
   "cell_type": "markdown",
   "metadata": {},
   "source": [
    "## Data Inspection"
   ]
  },
  {
   "cell_type": "code",
   "execution_count": 126,
   "metadata": {},
   "outputs": [
    {
     "data": {
      "text/plain": [
       "9460"
      ]
     },
     "execution_count": 126,
     "metadata": {},
     "output_type": "execute_result"
    }
   ],
   "source": [
    "df_SFO.where(col(\"DepDel15\").isNull()).count()"
   ]
  },
  {
   "cell_type": "code",
   "execution_count": 127,
   "metadata": {},
   "outputs": [
    {
     "data": {
      "text/plain": [
       "9460"
      ]
     },
     "execution_count": 127,
     "metadata": {},
     "output_type": "execute_result"
    }
   ],
   "source": [
    "df_SFO.where(col(\"DepTime\").isNull()).count()"
   ]
  },
  {
   "cell_type": "code",
   "execution_count": 50,
   "metadata": {},
   "outputs": [
    {
     "data": {
      "text/plain": [
       "546330"
      ]
     },
     "execution_count": 50,
     "metadata": {},
     "output_type": "execute_result"
    }
   ],
   "source": [
    "df_SFO.where(col(\"CancellationCode\").isNull()).count()"
   ]
  },
  {
   "cell_type": "code",
   "execution_count": 128,
   "metadata": {},
   "outputs": [
    {
     "data": {
      "text/plain": [
       "4773"
      ]
     },
     "execution_count": 128,
     "metadata": {},
     "output_type": "execute_result"
    }
   ],
   "source": [
    "df_SFO.where(col(\"TailNum\").isNull()).count()"
   ]
  },
  {
   "cell_type": "code",
   "execution_count": 310,
   "metadata": {},
   "outputs": [],
   "source": [
    "df_SFO=df_SFO.na.drop(subset=[\"DepDel15\"])"
   ]
  },
  {
   "cell_type": "code",
   "execution_count": 311,
   "metadata": {},
   "outputs": [],
   "source": [
    "df_SFO=df_SFO.drop(df_SFO.CancellationCode)"
   ]
  },
  {
   "cell_type": "markdown",
   "metadata": {},
   "source": [
    "## Convert Data to Pandas For better Visulization"
   ]
  },
  {
   "cell_type": "code",
   "execution_count": 132,
   "metadata": {},
   "outputs": [],
   "source": [
    "df_pd=df_SFO.toPandas()"
   ]
  },
  {
   "cell_type": "markdown",
   "metadata": {},
   "source": [
    "### Check NaN Values"
   ]
  },
  {
   "cell_type": "code",
   "execution_count": 134,
   "metadata": {
    "scrolled": true
   },
   "outputs": [
    {
     "data": {
      "text/plain": [
       "['TailNum',\n",
       " 'TaxiOut',\n",
       " 'WheelsOff',\n",
       " 'WheelsOn',\n",
       " 'TaxiIn',\n",
       " 'ArrTime',\n",
       " 'ArrDelay',\n",
       " 'ArrDelayMinutes',\n",
       " 'ArrDel15',\n",
       " 'ArrivalDelayGroups',\n",
       " 'ActualElapsedTime',\n",
       " 'AirTime']"
      ]
     },
     "execution_count": 134,
     "metadata": {},
     "output_type": "execute_result"
    }
   ],
   "source": [
    "df_pd.columns[df_pd.isnull().any()].tolist()"
   ]
  },
  {
   "cell_type": "markdown",
   "metadata": {},
   "source": [
    "### Plot Average Delayed Flights per Different Categories"
   ]
  },
  {
   "cell_type": "code",
   "execution_count": 103,
   "metadata": {
    "scrolled": false
   },
   "outputs": [
    {
     "data": {
      "text/plain": [
       "<matplotlib.figure.Figure at 0x7f6a989a03c8>"
      ]
     },
     "metadata": {},
     "output_type": "display_data"
    },
    {
     "data": {
      "image/png": "[encoded data removed]",
      "text/plain": [
       "<matplotlib.figure.Figure at 0x7f6a66fc25f8>"
      ]
     },
     "metadata": {},
     "output_type": "display_data"
    },
    {
     "data": {
      "image/png": "[encoded data removed]",
      "text/plain": [
       "<matplotlib.figure.Figure at 0x7f6a6a1e2b00>"
      ]
     },
     "metadata": {},
     "output_type": "display_data"
    },
    {
     "data": {
      "image/png": "[encoded data removed]",
      "text/plain": [
       "<matplotlib.figure.Figure at 0x7f6afc322320>"
      ]
     },
     "metadata": {},
     "output_type": "display_data"
    },
    {
     "data": {
      "image/png": "[encoded data removed]",
      "text/plain": [
       "<matplotlib.figure.Figure at 0x7f6a9e4c1f28>"
      ]
     },
     "metadata": {},
     "output_type": "display_data"
    },
    {
     "data": {
      "image/png": "[encoded data removed]",
      "text/plain": [
       "<matplotlib.figure.Figure at 0x7f6ae2cf9f98>"
      ]
     },
     "metadata": {},
     "output_type": "display_data"
    },
    {
     "data": {
      "image/png": "[encoded data removed]",
      "text/plain": [
       "<matplotlib.figure.Figure at 0x7f6aa50ea710>"
      ]
     },
     "metadata": {},
     "output_type": "display_data"
    },
    {
     "data": {
      "image/png": "[encoded data removed]",
      "text/plain": [
       "<matplotlib.figure.Figure at 0x7f6ad9bf1be0>"
      ]
     },
     "metadata": {},
     "output_type": "display_data"
    }
   ],
   "source": [
    "avgLate = np.sum(df_pd['DepDel15'])/len(df_pd['DepDel15'])\n",
    "attributes = ['Month','DayOfWeek', 'DayofMonth', 'DepTimeBlk','UniqueCarrier','Carrier','DepartureDelayGroups']\n",
    "for i,pred in enumerate(attributes):\n",
    "    plt.figure(i, figsize=(15, 5))\n",
    "    group = df_pd.groupby([pred], as_index=False).aggregate(np.mean)[[pred, 'DepDel15']]\n",
    "    group.sort_values(by=pred, inplace=True)    \n",
    "    group.plot.bar(x=pred, y='DepDel15')\n",
    "    plt.axhline(y=avgLate, label='Average')\n",
    "    plt.ylabel('Percent of Flights that depart Late')\n",
    "    plt.title(pred)\n",
    "    plt.legend().remove()"
   ]
  },
  {
   "cell_type": "markdown",
   "metadata": {},
   "source": [
    "\n",
    "Exploratory analysis reveals:\n",
    "\n",
    "(1) Delay changes substantially with Month e.g. lower delays in Autumn months   \n",
    "(2) Not much variation within week and day of month    \n",
    "(3) Higher delays for flights with departure and arrival time blocks from 3pm until midnight   \n",
    "    (a) There seems to be a lag in the pattern for arrival time block   \n",
    "    (b) Pattern starts with departure time block around 2pm and lasts until midnight    \n",
    "    (c) Pattern starts with arrival time block around 4pm and lasts until 1am (with a lag of 1-2hrs)   \n",
    "(5)Similar pattern is observed for arrival and departure delay groups    \n",
    "\n"
   ]
  },
  {
   "cell_type": "markdown",
   "metadata": {},
   "source": [
    "### Check Multi-Colinearity "
   ]
  },
  {
   "cell_type": "code",
   "execution_count": 106,
   "metadata": {},
   "outputs": [],
   "source": [
    "from sklearn.preprocessing import LabelEncoder\n",
    "le = LabelEncoder()\n",
    "\n",
    "df_pd[\"Unique_Carrier\"] = le.fit_transform(df_pd[\"UniqueCarrier\"])\n",
    "UniqueCarrier = list(le.classes_)\n",
    "df_pd[\"Carrier_Name\"] = le.fit_transform(df_pd[\"Carrier\"])\n",
    "Carrier = list(le.classes_)\n",
    "\n",
    "df_pd[\"Origin_Point\"] = le.fit_transform(df_pd[\"Origin\"])\n",
    "Origin = list(le.classes_)\n",
    "df_pd[\"Origin_CityName\"] = le.fit_transform(df_pd[\"OriginCityName\"])\n",
    "OriginCityName = list(le.classes_)\n",
    "df_pd[\"Origin_State\"] = le.fit_transform(df_pd[\"OriginState\"])\n",
    "OriginState = list(le.classes_)\n",
    "df_pd[\"OriginState_Name\"] = le.fit_transform(df_pd[\"OriginStateName\"])\n",
    "OriginStateName = list(le.classes_)\n",
    "\n",
    "df_pd[\"Destination\"] = le.fit_transform(df_pd[\"Dest\"])\n",
    "Dest = list(le.classes_)\n",
    "df_pd[\"Dest_CityName\"] = le.fit_transform(df_pd[\"DestCityName\"])\n",
    "DestCityName = list(le.classes_)\n",
    "df_pd[\"Dest_State\"] = le.fit_transform(df_pd[\"DestState\"])\n",
    "DestState = list(le.classes_)\n",
    "df_pd[\"Dest_StateName\"] = le.fit_transform(df_pd[\"DestStateName\"])\n",
    "DestStateName = list(le.classes_)\n",
    "\n",
    "df_pd[\"DepTime_Blk\"] = le.fit_transform(df_pd[\"DepTimeBlk\"])\n",
    "DepTimeBlk = list(le.classes_)\n",
    "df_pd[\"ArrTime_Blk\"] = le.fit_transform(df_pd[\"ArrTimeBlk\"])\n",
    "ArrTimeBlk = list(le.classes_)"
   ]
  },
  {
   "cell_type": "code",
   "execution_count": 109,
   "metadata": {},
   "outputs": [],
   "source": [
    "df_pd.drop(['UniqueCarrier','Carrier',\n",
    "           'Origin','OriginCityName','OriginState','OriginStateName',\n",
    "          'Dest','DestCityName','DestState','DestStateName',\n",
    "          'DepTimeBlk','ArrTimeBlk'], axis=1, inplace=True)"
   ]
  },
  {
   "cell_type": "code",
   "execution_count": 110,
   "metadata": {},
   "outputs": [
    {
     "name": "stdout",
     "output_type": "stream",
     "text": [
      "Dimension reduced to:\n",
      "41\n"
     ]
    }
   ],
   "source": [
    "rfDataOriginal = pd.DataFrame(df_pd)\n",
    "Delay_YesNo = rfDataOriginal['DepDel15']\n",
    "rfDataOriginal.drop(['DepDel15'], axis=1, inplace=True)#Removing target variable\n",
    "print('Dimension reduced to:')\n",
    "print(len(rfDataOriginal.columns))"
   ]
  },
  {
   "cell_type": "code",
   "execution_count": 111,
   "metadata": {
    "scrolled": true
   },
   "outputs": [
    {
     "data": {
      "image/png": "[encoded data removed]",
      "text/plain": [
       "<matplotlib.figure.Figure at 0x7f6a9dbc7f98>"
      ]
     },
     "metadata": {},
     "output_type": "display_data"
    }
   ],
   "source": [
    "plt.matshow(rfDataOriginal.corr())\n",
    "plt.title('Correlation matrix for MULTI-COLLINEAR data')\n",
    "corr = rfDataOriginal.corr()"
   ]
  },
  {
   "cell_type": "code",
   "execution_count": 112,
   "metadata": {
    "scrolled": true
   },
   "outputs": [
    {
     "data": {
      "text/plain": [
       "[('Quarter', 'Month'),\n",
       " ('DestAirportID', 'DestAirportSeqID'),\n",
       " ('DestAirportID', 'Destination'),\n",
       " ('DestAirportSeqID', 'Destination'),\n",
       " ('DestStateFips', 'Dest_State'),\n",
       " ('DestStateFips', 'Dest_StateName'),\n",
       " ('CRSDepTime', 'DepTime'),\n",
       " ('CRSDepTime', 'DepTime_Blk'),\n",
       " ('DepTime', 'DepTime_Blk'),\n",
       " ('DepDelay', 'DepDelayMinutes'),\n",
       " ('DepDelay', 'DepartureDelayGroups'),\n",
       " ('DepDelayMinutes', 'DepartureDelayGroups'),\n",
       " ('CRSArrTime', 'ArrTime_Blk'),\n",
       " ('CRSElapsedTime', 'Distance'),\n",
       " ('CRSElapsedTime', 'DistanceGroup'),\n",
       " ('Distance', 'DistanceGroup'),\n",
       " ('Unique_Carrier', 'Carrier_Name'),\n",
       " ('Destination', 'Dest_CityName'),\n",
       " ('Dest_State', 'Dest_StateName')]"
      ]
     },
     "execution_count": 112,
     "metadata": {},
     "output_type": "execute_result"
    }
   ],
   "source": [
    "corr = rfDataOriginal.corr()#Lists all pairs of highly collinear variables\n",
    "indices = np.where(corr > 0.8)\n",
    "indices = [(corr.columns[x], corr.columns[y]) for x, y in zip(*indices)\n",
    "                                        if x != y and x < y]\n",
    "indices\n"
   ]
  },
  {
   "cell_type": "markdown",
   "metadata": {},
   "source": [
    "## Preprocessing Data"
   ]
  },
  {
   "cell_type": "markdown",
   "metadata": {},
   "source": [
    "### Remove columns with NaN"
   ]
  },
  {
   "cell_type": "code",
   "execution_count": 312,
   "metadata": {},
   "outputs": [],
   "source": [
    "df_SFO=df_SFO.drop('TailNum',\n",
    " 'TaxiOut',\n",
    " 'WheelsOff',\n",
    " 'WheelsOn',\n",
    " 'TaxiIn',\n",
    " 'ArrTime',\n",
    " 'ArrDelay',\n",
    " 'ArrDelayMinutes',\n",
    " 'ArrDel15',\n",
    " 'ArrivalDelayGroups',\n",
    " 'ActualElapsedTime',\n",
    " 'AirTime')"
   ]
  },
  {
   "cell_type": "markdown",
   "metadata": {},
   "source": [
    "### Remove Columns with Conflicts or Useless for analysis"
   ]
  },
  {
   "cell_type": "code",
   "execution_count": 313,
   "metadata": {},
   "outputs": [],
   "source": [
    "df_SFO=df_SFO.drop('DepartureDelayGroups','ArrivalDelayGroups','OriginAirportSeqID','OriginCityMarketID', 'OriginStateFips', 'OriginWac', \n",
    "                     'DestAirportSeqID', 'DestCityMarketID', 'DestStateFips', 'DestWac',\"DestAirportID\",\"OriginAirportID\"\n",
    "                     'CRSDepTime', 'CRSElapsedTime', 'CRSArrTime','Carrier','OriginCityName', 'OriginStateName'\n",
    "                      'DestCityName', 'DestState', 'DestStateName',\"ArrTimeBlk\",\"Diverted\",\"DepDelayMinutes\",\"ArrTimeBlk\")"
   ]
  },
  {
   "cell_type": "code",
   "execution_count": 329,
   "metadata": {},
   "outputs": [],
   "source": [
    "df_SFO=df_SFO.drop(\"OriginStateName\",\"DepTimeBlk\",\"DepDelay\",\"DepTime\",\"DestCityName\",\"OriginState\")"
   ]
  },
  {
   "cell_type": "markdown",
   "metadata": {},
   "source": [
    "### Encode Labels for Categorical variables"
   ]
  },
  {
   "cell_type": "code",
   "execution_count": 331,
   "metadata": {},
   "outputs": [],
   "source": [
    "from pyspark.ml.feature import OneHotEncoder, StringIndexer, VectorAssembler\n",
    "categoricalColumns = [\"UniqueCarrier\",\"Dest\"]\n",
    "\n",
    "stages = [] # stages in our Pipeline\n",
    "for col in categoricalColumns:\n",
    "  \n",
    "  # Category Indexing with StringIndexer\n",
    "  indexer = StringIndexer(inputCol=col, outputCol=col+\"_index\")\n",
    "   \n",
    "  # Use OneHotEncoder to convert categorical variables into binary SparseVectors\n",
    "  encoder = OneHotEncoder(inputCol=col+\"_index\", outputCol=col+\"_vector\")\n",
    "  \n",
    "  # Add stages.  These are not run here, but will run all at once later on.\n",
    "  stages += [indexer, encoder]"
   ]
  },
  {
   "cell_type": "markdown",
   "metadata": {},
   "source": [
    "### Create vectors for modelling "
   ]
  },
  {
   "cell_type": "code",
   "execution_count": 332,
   "metadata": {},
   "outputs": [],
   "source": [
    "# Transform all numerical features into a vector using VectorAssembler\n",
    "numericCols = [\"Year\", \"Month\", \"DayofMonth\", \"DayOfWeek\", \"AirlineID\", \"FlightNum\",\"CRSDepTime\"]\n",
    "assemblerInputs = [ col + \"_vector\" for col in categoricalColumns ] + numericCols\n",
    "assembler = VectorAssembler(inputCols=assemblerInputs, outputCol=\"features\")\n",
    "stages += [assembler]"
   ]
  },
  {
   "cell_type": "code",
   "execution_count": 319,
   "metadata": {
    "scrolled": true
   },
   "outputs": [
    {
     "name": "stdout",
     "output_type": "stream",
     "text": [
      "['UniqueCarrier_vector', 'Dest_vector', 'Year', 'Month', 'DayofMonth', 'DayOfWeek', 'AirlineID', 'FlightNum', 'CRSDepTime']\n"
     ]
    }
   ],
   "source": [
    "print(assemblerInputs)"
   ]
  },
  {
   "cell_type": "code",
   "execution_count": 333,
   "metadata": {
    "scrolled": true
   },
   "outputs": [],
   "source": [
    "from pyspark.ml import Pipeline\n",
    "# Create a Pipeline.\n",
    "pipeline = Pipeline(stages=stages)\n",
    "\n",
    "# Run the feature transformations.\n",
    "#  - fit() computes feature statistics as needed.\n",
    "#  - transform() actually transforms the features.\n",
    "\n",
    "transformer = pipeline.fit(df_SFO)\n",
    "transformed_df = transformer.transform(df_SFO)\n",
    "\n"
   ]
  },
  {
   "cell_type": "code",
   "execution_count": 337,
   "metadata": {
    "scrolled": true
   },
   "outputs": [
    {
     "name": "stdout",
     "output_type": "stream",
     "text": [
      "root\n",
      " |-- Year: integer (nullable = true)\n",
      " |-- Quarter: integer (nullable = true)\n",
      " |-- Month: integer (nullable = true)\n",
      " |-- DayofMonth: integer (nullable = true)\n",
      " |-- DayOfWeek: integer (nullable = true)\n",
      " |-- UniqueCarrier: string (nullable = true)\n",
      " |-- AirlineID: integer (nullable = true)\n",
      " |-- FlightNum: integer (nullable = true)\n",
      " |-- OriginAirportID: integer (nullable = true)\n",
      " |-- Origin: string (nullable = true)\n",
      " |-- Dest: string (nullable = true)\n",
      " |-- CRSDepTime: integer (nullable = true)\n",
      " |-- label: double (nullable = true)\n",
      " |-- Cancelled: double (nullable = true)\n",
      " |-- Flights: double (nullable = true)\n",
      " |-- Distance: double (nullable = true)\n",
      " |-- DistanceGroup: integer (nullable = true)\n",
      " |-- UniqueCarrier_index: double (nullable = true)\n",
      " |-- UniqueCarrier_vector: vector (nullable = true)\n",
      " |-- Dest_index: double (nullable = true)\n",
      " |-- Dest_vector: vector (nullable = true)\n",
      " |-- features: vector (nullable = true)\n",
      "\n",
      "+----+-------+-----+----------+---------+-------------+---------+---------+---------------+------+----+----------+-----+---------+-------+--------+-------------+-------------------+--------------------+----------+--------------+--------------------+\n",
      "|Year|Quarter|Month|DayofMonth|DayOfWeek|UniqueCarrier|AirlineID|FlightNum|OriginAirportID|Origin|Dest|CRSDepTime|label|Cancelled|Flights|Distance|DistanceGroup|UniqueCarrier_index|UniqueCarrier_vector|Dest_index|   Dest_vector|            features|\n",
      "+----+-------+-----+----------+---------+-------------+---------+---------+---------------+------+----+----------+-----+---------+-------+--------+-------------+-------------------+--------------------+----------+--------------+--------------------+\n",
      "|2009|      4|   12|         1|        2|           AA|    19805|       16|          14771|   SFO| JFK|      1200|  1.0|      0.0|    1.0|  2586.0|           11|                2.0|      (16,[2],[1.0])|       2.0|(82,[2],[1.0])|(105,[2,18,98,99,...|\n",
      "|2009|      4|   12|         2|        3|           AA|    19805|       16|          14771|   SFO| JFK|      1200|  1.0|      0.0|    1.0|  2586.0|           11|                2.0|      (16,[2],[1.0])|       2.0|(82,[2],[1.0])|(105,[2,18,98,99,...|\n",
      "|2009|      4|   12|         3|        4|           AA|    19805|       16|          14771|   SFO| JFK|      1200|  1.0|      0.0|    1.0|  2586.0|           11|                2.0|      (16,[2],[1.0])|       2.0|(82,[2],[1.0])|(105,[2,18,98,99,...|\n",
      "|2009|      4|   12|         4|        5|           AA|    19805|       16|          14771|   SFO| JFK|      1200|  1.0|      0.0|    1.0|  2586.0|           11|                2.0|      (16,[2],[1.0])|       2.0|(82,[2],[1.0])|(105,[2,18,98,99,...|\n",
      "|2009|      4|   12|         5|        6|           AA|    19805|       16|          14771|   SFO| JFK|      1200|  0.0|      0.0|    1.0|  2586.0|           11|                2.0|      (16,[2],[1.0])|       2.0|(82,[2],[1.0])|(105,[2,18,98,99,...|\n",
      "|2009|      4|   12|         6|        7|           AA|    19805|       16|          14771|   SFO| JFK|      1200|  0.0|      0.0|    1.0|  2586.0|           11|                2.0|      (16,[2],[1.0])|       2.0|(82,[2],[1.0])|(105,[2,18,98,99,...|\n",
      "|2009|      4|   12|         7|        1|           AA|    19805|       16|          14771|   SFO| JFK|      1200|  0.0|      0.0|    1.0|  2586.0|           11|                2.0|      (16,[2],[1.0])|       2.0|(82,[2],[1.0])|(105,[2,18,98,99,...|\n",
      "|2009|      4|   12|         8|        2|           AA|    19805|       16|          14771|   SFO| JFK|      1200|  0.0|      0.0|    1.0|  2586.0|           11|                2.0|      (16,[2],[1.0])|       2.0|(82,[2],[1.0])|(105,[2,18,98,99,...|\n",
      "|2009|      4|   12|         9|        3|           AA|    19805|       16|          14771|   SFO| JFK|      1200|  0.0|      0.0|    1.0|  2586.0|           11|                2.0|      (16,[2],[1.0])|       2.0|(82,[2],[1.0])|(105,[2,18,98,99,...|\n",
      "|2009|      4|   12|        10|        4|           AA|    19805|       16|          14771|   SFO| JFK|      1200|  1.0|      0.0|    1.0|  2586.0|           11|                2.0|      (16,[2],[1.0])|       2.0|(82,[2],[1.0])|(105,[2,18,98,99,...|\n",
      "|2009|      4|   12|        11|        5|           AA|    19805|       16|          14771|   SFO| JFK|      1200|  0.0|      0.0|    1.0|  2586.0|           11|                2.0|      (16,[2],[1.0])|       2.0|(82,[2],[1.0])|(105,[2,18,98,99,...|\n",
      "|2009|      4|   12|        12|        6|           AA|    19805|       16|          14771|   SFO| JFK|      1200|  0.0|      0.0|    1.0|  2586.0|           11|                2.0|      (16,[2],[1.0])|       2.0|(82,[2],[1.0])|(105,[2,18,98,99,...|\n",
      "|2009|      4|   12|        13|        7|           AA|    19805|       16|          14771|   SFO| JFK|      1200|  1.0|      0.0|    1.0|  2586.0|           11|                2.0|      (16,[2],[1.0])|       2.0|(82,[2],[1.0])|(105,[2,18,98,99,...|\n",
      "|2009|      4|   12|        14|        1|           AA|    19805|       16|          14771|   SFO| JFK|      1200|  0.0|      0.0|    1.0|  2586.0|           11|                2.0|      (16,[2],[1.0])|       2.0|(82,[2],[1.0])|(105,[2,18,98,99,...|\n",
      "|2009|      4|   12|        15|        2|           AA|    19805|       16|          14771|   SFO| JFK|      1200|  1.0|      0.0|    1.0|  2586.0|           11|                2.0|      (16,[2],[1.0])|       2.0|(82,[2],[1.0])|(105,[2,18,98,99,...|\n",
      "|2009|      4|   12|        16|        3|           AA|    19805|       16|          14771|   SFO| JFK|      1200|  0.0|      0.0|    1.0|  2586.0|           11|                2.0|      (16,[2],[1.0])|       2.0|(82,[2],[1.0])|(105,[2,18,98,99,...|\n",
      "|2009|      4|   12|        17|        4|           AA|    19805|       16|          14771|   SFO| JFK|      1200|  0.0|      0.0|    1.0|  2586.0|           11|                2.0|      (16,[2],[1.0])|       2.0|(82,[2],[1.0])|(105,[2,18,98,99,...|\n",
      "|2009|      4|   12|        18|        5|           AA|    19805|       16|          14771|   SFO| JFK|      1200|  1.0|      0.0|    1.0|  2586.0|           11|                2.0|      (16,[2],[1.0])|       2.0|(82,[2],[1.0])|(105,[2,18,98,99,...|\n",
      "|2009|      4|   12|        21|        1|           AA|    19805|       16|          14771|   SFO| JFK|      1200|  0.0|      0.0|    1.0|  2586.0|           11|                2.0|      (16,[2],[1.0])|       2.0|(82,[2],[1.0])|(105,[2,18,98,99,...|\n",
      "|2009|      4|   12|        22|        2|           AA|    19805|       16|          14771|   SFO| JFK|      1200|  0.0|      0.0|    1.0|  2586.0|           11|                2.0|      (16,[2],[1.0])|       2.0|(82,[2],[1.0])|(105,[2,18,98,99,...|\n",
      "+----+-------+-----+----------+---------+-------------+---------+---------+---------------+------+----+----------+-----+---------+-------+--------+-------------+-------------------+--------------------+----------+--------------+--------------------+\n",
      "only showing top 20 rows\n",
      "\n"
     ]
    }
   ],
   "source": [
    "from functools import reduce\n",
    "oldColumns = transformed_df.schema.names\n",
    "newColumns = ['Year',\n",
    " 'Quarter',\n",
    " 'Month',\n",
    " 'DayofMonth',\n",
    " 'DayOfWeek',\n",
    " 'UniqueCarrier',\n",
    " 'AirlineID',\n",
    " 'FlightNum',\n",
    " 'OriginAirportID',\n",
    " 'Origin',\n",
    " 'Dest',\n",
    " 'CRSDepTime',\n",
    " 'label',\n",
    " 'Cancelled',\n",
    " 'Flights',\n",
    " 'Distance',\n",
    " 'DistanceGroup',\n",
    " 'UniqueCarrier_index',\n",
    " 'UniqueCarrier_vector',\n",
    " 'Dest_index',\n",
    " 'Dest_vector',\n",
    " 'features']\n",
    "\n",
    "transformed_df = reduce(lambda data, idx: data.withColumnRenamed(oldColumns[idx], newColumns[idx]), range(len(oldColumns)), transformed_df)\n",
    "transformed_df.printSchema()"
   ]
  },
  {
   "cell_type": "code",
   "execution_count": 338,
   "metadata": {},
   "outputs": [],
   "source": [
    "# Keep relevant columns\n",
    "selection = [\"features\", \"label\"] \n",
    "dataset = transformed_df.select(selection)"
   ]
  },
  {
   "cell_type": "code",
   "execution_count": 275,
   "metadata": {
    "scrolled": true
   },
   "outputs": [
    {
     "name": "stdout",
     "output_type": "stream",
     "text": [
      "+--------------------+-----+\n",
      "|            features|label|\n",
      "+--------------------+-----+\n",
      "|(23,[2,16,17,18,1...|  1.0|\n",
      "|(23,[2,16,17,18,1...|  1.0|\n",
      "|(23,[2,16,17,18,1...|  1.0|\n",
      "|(23,[2,16,17,18,1...|  1.0|\n",
      "|(23,[2,16,17,18,1...|  0.0|\n",
      "|(23,[2,16,17,18,1...|  0.0|\n",
      "|(23,[2,16,17,18,1...|  0.0|\n",
      "|(23,[2,16,17,18,1...|  0.0|\n",
      "|(23,[2,16,17,18,1...|  0.0|\n",
      "|(23,[2,16,17,18,1...|  1.0|\n",
      "|(23,[2,16,17,18,1...|  0.0|\n",
      "|(23,[2,16,17,18,1...|  0.0|\n",
      "|(23,[2,16,17,18,1...|  1.0|\n",
      "|(23,[2,16,17,18,1...|  0.0|\n",
      "|(23,[2,16,17,18,1...|  1.0|\n",
      "|(23,[2,16,17,18,1...|  0.0|\n",
      "|(23,[2,16,17,18,1...|  0.0|\n",
      "|(23,[2,16,17,18,1...|  1.0|\n",
      "|(23,[2,16,17,18,1...|  0.0|\n",
      "|(23,[2,16,17,18,1...|  0.0|\n",
      "+--------------------+-----+\n",
      "only showing top 20 rows\n",
      "\n"
     ]
    }
   ],
   "source": [
    "dataset.show()"
   ]
  },
  {
   "cell_type": "markdown",
   "metadata": {},
   "source": [
    "### Split dataset for Cross-Validation "
   ]
  },
  {
   "cell_type": "code",
   "execution_count": 339,
   "metadata": {
    "scrolled": true
   },
   "outputs": [
    {
     "name": "stdout",
     "output_type": "stream",
     "text": [
      "Training records : 383408\n",
      "Test records : 163135 \n"
     ]
    },
    {
     "data": {
      "text/plain": [
       "DataFrame[features: vector, label: double]"
      ]
     },
     "execution_count": 339,
     "metadata": {},
     "output_type": "execute_result"
    }
   ],
   "source": [
    "\n",
    "\n",
    "### Randomly split data into training (70%) and test (30%) sets. set seed for reproducibility\n",
    "(train_data, test_data) = dataset.randomSplit([0.7, 0.3], seed = 100)\n",
    "print('Training records : %d' % train_data.count())\n",
    "print('Test records : %d ' % test_data.count())\n",
    "train_data.cache()\n",
    "\n"
   ]
  },
  {
   "cell_type": "markdown",
   "metadata": {},
   "source": [
    "## Predictive Models"
   ]
  },
  {
   "cell_type": "markdown",
   "metadata": {},
   "source": [
    "### Logistic Regression"
   ]
  },
  {
   "cell_type": "code",
   "execution_count": 341,
   "metadata": {},
   "outputs": [],
   "source": [
    "from pyspark.ml.classification import LogisticRegression\n",
    "\n",
    "# Create initial LogisticRegression model\n",
    "lr = LogisticRegression(labelCol=\"label\", featuresCol=\"features\", maxIter=10)\n",
    "\n",
    "# Train model with Training Data\n",
    "model = lr.fit(train_data)"
   ]
  },
  {
   "cell_type": "code",
   "execution_count": 342,
   "metadata": {},
   "outputs": [],
   "source": [
    "predictions = model.transform(test_data)"
   ]
  },
  {
   "cell_type": "code",
   "execution_count": 343,
   "metadata": {
    "scrolled": false
   },
   "outputs": [
    {
     "name": "stdout",
     "output_type": "stream",
     "text": [
      "+--------------------+-----+--------------------+--------------------+----------+\n",
      "|            features|label|       rawPrediction|         probability|prediction|\n",
      "+--------------------+-----+--------------------+--------------------+----------+\n",
      "|(105,[2,16,98,99,...|  0.0|[1.23629173570359...|[0.77491787767129...|       0.0|\n",
      "|(105,[2,16,98,99,...|  0.0|[1.23678974244991...|[0.77500472819535...|       0.0|\n",
      "|(105,[2,16,98,99,...|  1.0|[1.23547588051888...|[0.77477554416246...|       0.0|\n",
      "|(105,[2,16,98,99,...|  0.0|[1.23474020724658...|[0.77464714440369...|       0.0|\n",
      "|(105,[2,16,98,99,...|  0.0|[1.23468569258048...|[0.77463762769340...|       0.0|\n",
      "|(105,[2,16,98,99,...|  0.0|[1.23585445695679...|[0.77484159827330...|       0.0|\n",
      "|(105,[2,16,98,99,...|  0.0|[1.23668071311771...|[0.77498571591904...|       0.0|\n",
      "|(105,[2,16,98,99,...|  0.0|[1.23463117791438...|[0.77462811069814...|       0.0|\n",
      "|(105,[2,16,98,99,...|  0.0|[1.23662619845161...|[0.77497620935336...|       0.0|\n",
      "|(105,[2,16,98,99,...|  0.0|[1.23531233652058...|[0.77474700471393...|       0.0|\n",
      "|(105,[2,16,98,99,...|  0.0|[1.23452214858218...|[0.77460907585272...|       0.0|\n",
      "|(105,[2,16,98,99,...|  1.0|[1.23601916237309...|[0.77487033182466...|       0.0|\n",
      "|(105,[2,16,98,99,...|  0.0|[1.23478318116391...|[0.77465464622661...|       0.0|\n",
      "|(105,[2,16,98,99,...|  0.0|[1.23634669424940...|[0.77492746340484...|       0.0|\n",
      "|(105,[2,16,98,99,...|  0.0|[1.23601844483480...|[0.77487020665273...|       0.0|\n",
      "|(105,[2,16,98,99,...|  0.0|[1.23479516579239...|[0.77465673831430...|       0.0|\n",
      "|(105,[2,16,98,99,...|  0.0|[1.23679018632961...|[0.77500480559571...|       0.0|\n",
      "|(105,[2,16,98,99,...|  0.0|[1.23623766491720...|[0.77490844649585...|       0.0|\n",
      "|(105,[2,16,98,99,...|  1.0|[1.23468613646019...|[0.77463770518333...|       0.0|\n",
      "|(105,[2,16,98,99,...|  1.0|[1.23494716904191...|[0.77468327145254...|       0.0|\n",
      "+--------------------+-----+--------------------+--------------------+----------+\n",
      "only showing top 20 rows\n",
      "\n"
     ]
    }
   ],
   "source": [
    "predictions.show()"
   ]
  },
  {
   "cell_type": "code",
   "execution_count": 344,
   "metadata": {},
   "outputs": [
    {
     "name": "stdout",
     "output_type": "stream",
     "text": [
      "Score is : 0.592069\n"
     ]
    }
   ],
   "source": [
    "from pyspark.ml.evaluation import BinaryClassificationEvaluator\n",
    "\n",
    "# Evaluate model\n",
    "evaluator = BinaryClassificationEvaluator(rawPredictionCol=\"rawPrediction\")\n",
    "score = evaluator.evaluate(predictions)\n",
    "print('Score is : %03f' % score )"
   ]
  },
  {
   "cell_type": "markdown",
   "metadata": {},
   "source": [
    "### Random Forest"
   ]
  },
  {
   "cell_type": "code",
   "execution_count": 345,
   "metadata": {
    "scrolled": true
   },
   "outputs": [
    {
     "name": "stdout",
     "output_type": "stream",
     "text": [
      "+--------------+-----+--------------------+\n",
      "|predictedLabel|label|            features|\n",
      "+--------------+-----+--------------------+\n",
      "|           0.0|  0.0|(105,[2,16,98,99,...|\n",
      "|           0.0|  0.0|(105,[2,16,98,99,...|\n",
      "|           0.0|  1.0|(105,[2,16,98,99,...|\n",
      "|           0.0|  0.0|(105,[2,16,98,99,...|\n",
      "|           0.0|  0.0|(105,[2,16,98,99,...|\n",
      "+--------------+-----+--------------------+\n",
      "only showing top 5 rows\n",
      "\n",
      "Test Error = 0.224864\n"
     ]
    },
    {
     "ename": "IndexError",
     "evalue": "list index out of range",
     "output_type": "error",
     "traceback": [
      "\u001b[0;31m---------------------------------------------------------------------------\u001b[0m",
      "\u001b[0;31mIndexError\u001b[0m                                Traceback (most recent call last)",
      "\u001b[0;32m<ipython-input-345-da71fca90e5a>\u001b[0m in \u001b[0;36m<module>\u001b[0;34m()\u001b[0m\n\u001b[1;32m     43\u001b[0m \u001b[0mprint\u001b[0m\u001b[0;34m(\u001b[0m\u001b[0;34m\"Test Error = %g\"\u001b[0m \u001b[0;34m%\u001b[0m \u001b[0;34m(\u001b[0m\u001b[0;36m1.0\u001b[0m \u001b[0;34m-\u001b[0m \u001b[0maccuracy\u001b[0m\u001b[0;34m)\u001b[0m\u001b[0;34m)\u001b[0m\u001b[0;34m\u001b[0m\u001b[0m\n\u001b[1;32m     44\u001b[0m \u001b[0;34m\u001b[0m\u001b[0m\n\u001b[0;32m---> 45\u001b[0;31m \u001b[0mrfModel\u001b[0m \u001b[0;34m=\u001b[0m \u001b[0mmodel\u001b[0m\u001b[0;34m.\u001b[0m\u001b[0mstages\u001b[0m\u001b[0;34m[\u001b[0m\u001b[0;36m5\u001b[0m\u001b[0;34m]\u001b[0m\u001b[0;34m\u001b[0m\u001b[0m\n\u001b[0m\u001b[1;32m     46\u001b[0m \u001b[0mprint\u001b[0m\u001b[0;34m(\u001b[0m\u001b[0mrfModel\u001b[0m\u001b[0;34m)\u001b[0m  \u001b[0;31m# summary only\u001b[0m\u001b[0;34m\u001b[0m\u001b[0m\n",
      "\u001b[0;31mIndexError\u001b[0m: list index out of range"
     ]
    }
   ],
   "source": [
    "from pyspark.ml import Pipeline\n",
    "from pyspark.ml.classification import RandomForestClassifier\n",
    "from pyspark.ml.feature import IndexToString, StringIndexer, VectorIndexer\n",
    "from pyspark.ml.evaluation import MulticlassClassificationEvaluator\n",
    "from time import *\n",
    "\n",
    "start_time = time()\n",
    "\n",
    "\n",
    "\n",
    "labelIndexer = StringIndexer(inputCol=\"label\", outputCol=\"indexedLabel\").fit(dataset)\n",
    "\n",
    "# Automatically identify categorical features, and index them.\n",
    "# Set maxCategories so features with > 4 distinct values are treated as continuous.\n",
    "featureIndexer =\\\n",
    "    VectorIndexer(inputCol=\"features\", outputCol=\"indexedFeatures\", maxCategories=4).fit(dataset)\n",
    "\n",
    "# Split the data into training and test sets (30% held out for testing)\n",
    "(trainingData, testData) = dataset.randomSplit([0.7, 0.3])\n",
    "\n",
    "# Train a RandomForest model.\n",
    "rf = RandomForestClassifier(labelCol=\"indexedLabel\", featuresCol=\"indexedFeatures\", numTrees=10)\n",
    "\n",
    "# Convert indexed labels back to original labels.\n",
    "labelConverter = IndexToString(inputCol=\"prediction\", outputCol=\"predictedLabel\",\n",
    "                               labels=labelIndexer.labels)\n",
    "\n",
    "# Chain indexers and forest in a Pipeline\n",
    "pipeline = Pipeline(stages=[labelIndexer, featureIndexer, rf, labelConverter])\n",
    "\n",
    "# Train model.  This also runs the indexers.\n",
    "model = pipeline.fit(trainingData)\n",
    "\n",
    "# Make predictions.\n",
    "predictions = model.transform(testData)\n",
    "\n",
    "# Select example rows to display.\n",
    "predictions.select(\"predictedLabel\", \"label\", \"features\").show(5)\n",
    "\n",
    "# Select (prediction, true label) and compute test error\n",
    "evaluator = MulticlassClassificationEvaluator(\n",
    "    labelCol=\"indexedLabel\", predictionCol=\"prediction\", metricName=\"accuracy\")\n",
    "accuracy = evaluator.evaluate(predictions)\n",
    "print(\"Test Error = %g\" % (1.0 - accuracy))\n",
    "\n",
    "print(rfModel)  # summary only"
   ]
  },
  {
   "cell_type": "code",
   "execution_count": 346,
   "metadata": {},
   "outputs": [
    {
     "name": "stdout",
     "output_type": "stream",
     "text": [
      "Test Error = 0.224864\n",
      "Model accuracy = 0.775136\n"
     ]
    }
   ],
   "source": [
    "evaluator = MulticlassClassificationEvaluator(\n",
    "    labelCol=\"indexedLabel\", predictionCol=\"prediction\", metricName=\"accuracy\")\n",
    "accuracy = evaluator.evaluate(predictions)\n",
    "print(\"Test Error = %g\" % (1.0 - accuracy))\n",
    "print(\"Model accuracy = %g\" % (accuracy))"
   ]
  },
  {
   "cell_type": "markdown",
   "metadata": {},
   "source": [
    "## Import Weather Data"
   ]
  },
  {
   "cell_type": "code",
   "execution_count": 371,
   "metadata": {
    "scrolled": true
   },
   "outputs": [
    {
     "name": "stdout",
     "output_type": "stream",
     "text": [
      "root\n",
      " |-- Site4: string (nullable = true)\n",
      " |-- Date: string (nullable = true)\n",
      " |-- Source: string (nullable = true)\n",
      " |-- Max Temp: integer (nullable = true)\n",
      " |-- Avg Temp: integer (nullable = true)\n",
      " |-- HDDs: double (nullable = true)\n",
      " |-- CDDs: double (nullable = true)\n",
      " |-- Precipitation: double (nullable = true)\n",
      " |-- Snowfall: double (nullable = true)\n",
      " |-- Snow/Ice: double (nullable = true)\n",
      " |-- _c10: double (nullable = true)\n",
      "\n"
     ]
    }
   ],
   "source": [
    "df2 = spark.read \\\n",
    "    .option(\"inferSchema\", \"true\") \\\n",
    "    .csv(\"file://\"+dataset_path+\"weather_data_daily.csv\")\n",
    "    \n",
    "features=[ \"Site4\",\"Date\",\"Source\", \n",
    "            \"Max Temp\",\"Avg Temp\",\"HDDs\", \\\n",
    "            \"CDDs\",\"Precipitation\", \\\n",
    "            \"Snowfall\",\"Snow/Ice\"]\n",
    "#target=[\"median_value\"]\n",
    "\n",
    "fieldnames=features #+target\n",
    "\n",
    "rawnames=df2.schema.names\n",
    "\n",
    "# Create a small function\n",
    "def updateColNames(df,oldnames,newnames):\n",
    "    for i in range(len(newnames)):\n",
    "        df=df.withColumnRenamed(oldnames[i], newnames[i])\n",
    "    return df\n",
    "\n",
    "df2=updateColNames(df2,rawnames,fieldnames)\n",
    "\n",
    "df2.printSchema()"
   ]
  },
  {
   "cell_type": "code",
   "execution_count": 372,
   "metadata": {},
   "outputs": [],
   "source": [
    "split_col = pyspark.sql.functions.split(df2['Date'], ' ')\n",
    "df2 = df2.withColumn('Date', split_col.getItem(0))"
   ]
  },
  {
   "cell_type": "code",
   "execution_count": 349,
   "metadata": {
    "scrolled": true
   },
   "outputs": [
    {
     "name": "stdout",
     "output_type": "stream",
     "text": [
      "+-----+---------+------+--------+--------+----+----+-------------+--------+--------+----+\n",
      "|Site4|     Date|Source|Max Temp|Avg Temp|HDDs|CDDs|Precipitation|Snowfall|Snow/Ice|_c10|\n",
      "+-----+---------+------+--------+--------+----+----+-------------+--------+--------+----+\n",
      "| KSFO| 1/1/2007|  NCDC|      59|      40|49.5|15.5|          0.0|     0.0|     0.0|null|\n",
      "| KSFO| 1/2/2007|  NCDC|      57|      43|50.0|15.0|          0.0|     0.0|     0.0|null|\n",
      "| KSFO| 1/3/2007|  NCDC|      61|      43|52.0|13.0|          0.0|    0.01|     0.0|null|\n",
      "| KSFO| 1/4/2007|  NCDC|      56|      45|50.5|14.5|          0.0|    0.12|     0.0|null|\n",
      "| KSFO| 1/5/2007|  NCDC|      54|      43|48.5|16.5|          0.0|     0.0|     0.0|null|\n",
      "| KSFO| 1/6/2007|  NCDC|      56|      37|46.5|18.5|          0.0|     0.0|     0.0|null|\n",
      "| KSFO| 1/7/2007|  NCDC|      59|      41|50.0|15.0|          0.0|     0.0|     0.0|null|\n",
      "| KSFO| 1/8/2007|  NCDC|      64|      44|54.0|11.0|          0.0|     0.0|     0.0|null|\n",
      "| KSFO| 1/9/2007|  NCDC|      58|      43|50.5|14.5|          0.0|     0.0|     0.0|null|\n",
      "| KSFO|1/10/2007|  NCDC|      54|      39|46.5|18.5|          0.0|     0.0|     0.0|null|\n",
      "| KSFO|1/11/2007|  NCDC|      50|      40|45.0|20.0|          0.0|     0.0|     0.0|null|\n",
      "| KSFO|1/12/2007|  NCDC|      46|      37|41.5|23.5|          0.0|     0.0|     0.0|null|\n",
      "| KSFO|1/13/2007|  NCDC|      48|      37|42.5|22.5|          0.0|     0.0|     0.0|null|\n",
      "| KSFO|1/14/2007|  NCDC|      48|      32|40.0|25.0|          0.0|     0.0|     0.0|null|\n",
      "| KSFO|1/15/2007|  NCDC|      52|      33|42.5|22.5|          0.0|     0.0|     0.0|null|\n",
      "| KSFO|1/16/2007|  NCDC|      51|      33|42.0|23.0|          0.0|    0.11|    null|null|\n",
      "| KSFO|1/17/2007|  NCDC|      55|      38|46.5|18.5|          0.0|    0.04|     0.0|null|\n",
      "| KSFO|1/18/2007|  NCDC|      58|      33|45.5|19.5|          0.0|     0.0|     0.0|null|\n",
      "| KSFO|1/19/2007|  NCDC|      55|      37|46.0|19.0|          0.0|     0.0|     0.0|null|\n",
      "| KSFO|1/20/2007|  NCDC|      59|      38|48.5|16.5|          0.0|     0.0|     0.0|null|\n",
      "+-----+---------+------+--------+--------+----+----+-------------+--------+--------+----+\n",
      "only showing top 20 rows\n",
      "\n"
     ]
    }
   ],
   "source": [
    "df2.show()"
   ]
  },
  {
   "cell_type": "code",
   "execution_count": 350,
   "metadata": {
    "scrolled": true
   },
   "outputs": [
    {
     "name": "stdout",
     "output_type": "stream",
     "text": [
      "+-----+----+------+--------+--------+----+----+-------------+--------+--------+----+\n",
      "|Site4|Date|Source|Max Temp|Avg Temp|HDDs|CDDs|Precipitation|Snowfall|Snow/Ice|_c10|\n",
      "+-----+----+------+--------+--------+----+----+-------------+--------+--------+----+\n",
      "|    0|   0|     0|       0|       0|   0|   0|            0|       0|       0|   0|\n",
      "+-----+----+------+--------+--------+----+----+-------------+--------+--------+----+\n",
      "\n"
     ]
    }
   ],
   "source": [
    "df2.select([count(when(isnan(c), c)).alias(c) for c in df2.columns]).show()"
   ]
  },
  {
   "cell_type": "markdown",
   "metadata": {},
   "source": [
    "# Merge both Data Sets by date"
   ]
  },
  {
   "cell_type": "code",
   "execution_count": 373,
   "metadata": {
    "scrolled": true
   },
   "outputs": [],
   "source": [
    "df2 = df2.select('Date','Avg Temp','Precipitation','HDDs','CDDs','Snowfall','Snow/Ice', from_unixtime(unix_timestamp('Date', 'MM/dd/yyy')).alias('date2'))\n"
   ]
  },
  {
   "cell_type": "code",
   "execution_count": 374,
   "metadata": {
    "scrolled": false
   },
   "outputs": [
    {
     "name": "stdout",
     "output_type": "stream",
     "text": [
      "+----------+--------+-------------+--------+\n",
      "|     date2|Avg Temp|Precipitation|Snowfall|\n",
      "+----------+--------+-------------+--------+\n",
      "|2007-01-01|      40|          0.0|     0.0|\n",
      "|2007-01-02|      43|          0.0|     0.0|\n",
      "|2007-01-03|      43|          0.0|    0.01|\n",
      "|2007-01-04|      45|          0.0|    0.12|\n",
      "|2007-01-05|      43|          0.0|     0.0|\n",
      "|2007-01-06|      37|          0.0|     0.0|\n",
      "|2007-01-07|      41|          0.0|     0.0|\n",
      "|2007-01-08|      44|          0.0|     0.0|\n",
      "|2007-01-09|      43|          0.0|     0.0|\n",
      "|2007-01-10|      39|          0.0|     0.0|\n",
      "|2007-01-11|      40|          0.0|     0.0|\n",
      "|2007-01-12|      37|          0.0|     0.0|\n",
      "|2007-01-13|      37|          0.0|     0.0|\n",
      "|2007-01-14|      32|          0.0|     0.0|\n",
      "|2007-01-15|      33|          0.0|     0.0|\n",
      "|2007-01-16|      33|          0.0|    0.11|\n",
      "|2007-01-17|      38|          0.0|    0.04|\n",
      "|2007-01-18|      33|          0.0|     0.0|\n",
      "|2007-01-19|      37|          0.0|     0.0|\n",
      "|2007-01-20|      38|          0.0|     0.0|\n",
      "+----------+--------+-------------+--------+\n",
      "only showing top 20 rows\n",
      "\n"
     ]
    }
   ],
   "source": [
    "split_col = pyspark.sql.functions.split(df2['date2'], ' ')\n",
    "df2 = df2.withColumn('date2', split_col.getItem(0))\n",
    "df2 = df2.select('date2','Avg Temp','Precipitation','Snowfall')\n",
    "df2.show()"
   ]
  },
  {
   "cell_type": "code",
   "execution_count": 375,
   "metadata": {},
   "outputs": [],
   "source": [
    "df2=df2.select(year(\"date2\").alias('year'),month(\"date2\").alias('month'),dayofmonth(\"date2\").alias('day'),\"Avg Temp\",\"Precipitation\",\"Snowfall\") "
   ]
  },
  {
   "cell_type": "code",
   "execution_count": 376,
   "metadata": {},
   "outputs": [
    {
     "data": {
      "text/plain": [
       "['year', 'month', 'day', 'Avg Temp', 'Precipitation', 'Snowfall']"
      ]
     },
     "execution_count": 376,
     "metadata": {},
     "output_type": "execute_result"
    }
   ],
   "source": [
    "df2.schema.names"
   ]
  },
  {
   "cell_type": "code",
   "execution_count": 377,
   "metadata": {},
   "outputs": [
    {
     "name": "stdout",
     "output_type": "stream",
     "text": [
      "root\n",
      " |-- w_year: integer (nullable = true)\n",
      " |-- w_month: integer (nullable = true)\n",
      " |-- w_day: integer (nullable = true)\n",
      " |-- Avg_Temp: integer (nullable = true)\n",
      " |-- Precipitation: double (nullable = true)\n",
      " |-- Snowfall: double (nullable = true)\n",
      "\n"
     ]
    }
   ],
   "source": [
    "oldColumns = df2.schema.names\n",
    "newColumns = ['w_year', 'w_month', 'w_day', 'Avg_Temp', 'Precipitation', 'Snowfall']\n",
    "df2 = reduce(lambda df2, idx: df2.withColumnRenamed(oldColumns[idx], newColumns[idx]), range(len(oldColumns)), df2)\n",
    "df2.printSchema()\n"
   ]
  },
  {
   "cell_type": "code",
   "execution_count": 378,
   "metadata": {
    "scrolled": true
   },
   "outputs": [
    {
     "name": "stdout",
     "output_type": "stream",
     "text": [
      "root\n",
      " |-- Year: integer (nullable = true)\n",
      " |-- Quarter: integer (nullable = true)\n",
      " |-- Month: integer (nullable = true)\n",
      " |-- DayofMonth: integer (nullable = true)\n",
      " |-- DayOfWeek: integer (nullable = true)\n",
      " |-- UniqueCarrier: string (nullable = true)\n",
      " |-- AirlineID: integer (nullable = true)\n",
      " |-- FlightNum: integer (nullable = true)\n",
      " |-- OriginAirportID: integer (nullable = true)\n",
      " |-- Origin: string (nullable = true)\n",
      " |-- Dest: string (nullable = true)\n",
      " |-- CRSDepTime: integer (nullable = true)\n",
      " |-- DepDel15: double (nullable = true)\n",
      " |-- Cancelled: double (nullable = true)\n",
      " |-- Flights: double (nullable = true)\n",
      " |-- Distance: double (nullable = true)\n",
      " |-- DistanceGroup: integer (nullable = true)\n",
      " |-- w_year: integer (nullable = true)\n",
      " |-- w_month: integer (nullable = true)\n",
      " |-- w_day: integer (nullable = true)\n",
      " |-- Avg_Temp: integer (nullable = true)\n",
      " |-- Precipitation: double (nullable = true)\n",
      " |-- Snowfall: double (nullable = true)\n",
      "\n"
     ]
    }
   ],
   "source": [
    "df_SFO_Weather = df_SFO.join(df2, (df_SFO.Year == df2.w_year)&(df_SFO.Month == df2.w_month)&(df_SFO.DayofMonth == df2.w_day))\n",
    "df_SFO_Weather.printSchema()"
   ]
  },
  {
   "cell_type": "code",
   "execution_count": 379,
   "metadata": {},
   "outputs": [],
   "source": [
    "df_SFO_Weather=df_SFO_Weather.drop('w_year','w_month','w_day')"
   ]
  },
  {
   "cell_type": "code",
   "execution_count": 380,
   "metadata": {},
   "outputs": [
    {
     "name": "stdout",
     "output_type": "stream",
     "text": [
      "root\n",
      " |-- Year: integer (nullable = true)\n",
      " |-- Quarter: integer (nullable = true)\n",
      " |-- Month: integer (nullable = true)\n",
      " |-- DayofMonth: integer (nullable = true)\n",
      " |-- DayOfWeek: integer (nullable = true)\n",
      " |-- UniqueCarrier: string (nullable = true)\n",
      " |-- AirlineID: integer (nullable = true)\n",
      " |-- FlightNum: integer (nullable = true)\n",
      " |-- OriginAirportID: integer (nullable = true)\n",
      " |-- Origin: string (nullable = true)\n",
      " |-- Dest: string (nullable = true)\n",
      " |-- CRSDepTime: integer (nullable = true)\n",
      " |-- DepDel15: double (nullable = true)\n",
      " |-- Cancelled: double (nullable = true)\n",
      " |-- Flights: double (nullable = true)\n",
      " |-- Distance: double (nullable = true)\n",
      " |-- DistanceGroup: integer (nullable = true)\n",
      " |-- Avg_Temp: integer (nullable = true)\n",
      " |-- Precipitation: double (nullable = true)\n",
      " |-- Snowfall: double (nullable = true)\n",
      "\n"
     ]
    }
   ],
   "source": [
    "df_SFO_Weather.printSchema()"
   ]
  },
  {
   "cell_type": "code",
   "execution_count": 396,
   "metadata": {},
   "outputs": [],
   "source": [
    "df_SFO_pd=df_SFO_Weather.toPandas()"
   ]
  },
  {
   "cell_type": "code",
   "execution_count": 413,
   "metadata": {},
   "outputs": [],
   "source": [
    "temp=pd.DataFrame(df_SFO_pd[df_SFO_pd['DepDel15']>0].groupby('Avg_Temp').DepDel15.value_counts())"
   ]
  },
  {
   "cell_type": "code",
   "execution_count": 417,
   "metadata": {
    "scrolled": true
   },
   "outputs": [
    {
     "data": {
      "text/plain": [
       "<matplotlib.axes._subplots.AxesSubplot at 0x7f6a7f962748>"
      ]
     },
     "execution_count": 417,
     "metadata": {},
     "output_type": "execute_result"
    },
    {
     "data": {
      "image/png": "[encoded data removed]",
      "text/plain": [
       "<matplotlib.figure.Figure at 0x7f6a5f3464e0>"
      ]
     },
     "metadata": {},
     "output_type": "display_data"
    }
   ],
   "source": [
    "temp['temp']=temp.index.get_level_values('Avg_Temp')\n",
    "sns.regplot(x=temp['temp'], y=temp['DepDel15'], color=\"g\")"
   ]
  },
  {
   "cell_type": "code",
   "execution_count": 418,
   "metadata": {},
   "outputs": [
    {
     "data": {
      "text/plain": [
       "<matplotlib.axes._subplots.AxesSubplot at 0x7f6a9813ac18>"
      ]
     },
     "execution_count": 418,
     "metadata": {},
     "output_type": "execute_result"
    },
    {
     "data": {
      "image/png": "[encoded data removed]",
      "text/plain": [
       "<matplotlib.figure.Figure at 0x7f6ad72bd0f0>"
      ]
     },
     "metadata": {},
     "output_type": "display_data"
    }
   ],
   "source": [
    "temp=pd.DataFrame(df_SFO_pd[df_SFO_pd['DepDel15']>0].groupby('Precipitation').DepDel15.value_counts())\n",
    "temp['Precipitation']=temp.index.get_level_values('Precipitation')\n",
    "sns.regplot(x=temp['Precipitation'], y=temp['DepDel15'], color=\"g\")"
   ]
  },
  {
   "cell_type": "markdown",
   "metadata": {},
   "source": [
    "# Run Random Forest with weather data"
   ]
  },
  {
   "cell_type": "code",
   "execution_count": 389,
   "metadata": {},
   "outputs": [],
   "source": [
    "from pyspark.ml.feature import OneHotEncoder, StringIndexer, VectorAssembler\n",
    "categoricalColumns = [\"UniqueCarrier\",\"Dest\"]\n",
    "\n",
    "stages = [] # stages in our Pipeline\n",
    "for col in categoricalColumns:\n",
    "  \n",
    "  # Category Indexing with StringIndexer\n",
    "  indexer = StringIndexer(inputCol=col, outputCol=col+\"_index\")\n",
    "   \n",
    "  # Use OneHotEncoder to convert categorical variables into binary SparseVectors\n",
    "  encoder = OneHotEncoder(inputCol=col+\"_index\", outputCol=col+\"_vector\")\n",
    "  \n",
    "  # Add stages.  These are not run here, but will run all at once later on.\n",
    "  stages += [indexer, encoder]"
   ]
  },
  {
   "cell_type": "code",
   "execution_count": 390,
   "metadata": {},
   "outputs": [],
   "source": [
    "# Transform all numerical features into a vector using VectorAssembler\n",
    "numericCols = [\"Year\", \"Month\", \"DayofMonth\", \"DayOfWeek\", \"AirlineID\", \"FlightNum\",\"CRSDepTime\",\"Avg_Temp\",\"Precipitation\"]\n",
    "assemblerInputs = [ col + \"_vector\" for col in categoricalColumns ] + numericCols\n",
    "assembler = VectorAssembler(inputCols=assemblerInputs, outputCol=\"features\")\n",
    "stages += [assembler]"
   ]
  },
  {
   "cell_type": "code",
   "execution_count": 391,
   "metadata": {
    "scrolled": true
   },
   "outputs": [],
   "source": [
    "from pyspark.ml import Pipeline\n",
    "# Create a Pipeline.\n",
    "pipeline = Pipeline(stages=stages)\n",
    "\n",
    "# Run the feature transformations.\n",
    "#  - fit() computes feature statistics as needed.\n",
    "#  - transform() actually transforms the features.\n",
    "\n",
    "transformer = pipeline.fit(df_SFO_Weather)\n",
    "transformed_df = transformer.transform(df_SFO_Weather)\n"
   ]
  },
  {
   "cell_type": "code",
   "execution_count": 392,
   "metadata": {},
   "outputs": [
    {
     "name": "stdout",
     "output_type": "stream",
     "text": [
      "root\n",
      " |-- Year: integer (nullable = true)\n",
      " |-- Quarter: integer (nullable = true)\n",
      " |-- Month: integer (nullable = true)\n",
      " |-- DayofMonth: integer (nullable = true)\n",
      " |-- DayOfWeek: integer (nullable = true)\n",
      " |-- UniqueCarrier: string (nullable = true)\n",
      " |-- AirlineID: integer (nullable = true)\n",
      " |-- FlightNum: integer (nullable = true)\n",
      " |-- OriginAirportID: integer (nullable = true)\n",
      " |-- Origin: string (nullable = true)\n",
      " |-- Dest: string (nullable = true)\n",
      " |-- CRSDepTime: integer (nullable = true)\n",
      " |-- label: double (nullable = true)\n",
      " |-- Cancelled: double (nullable = true)\n",
      " |-- Flights: double (nullable = true)\n",
      " |-- Distance: double (nullable = true)\n",
      " |-- DistanceGroup: integer (nullable = true)\n",
      " |-- Avg_Temp: integer (nullable = true)\n",
      " |-- Precipitation: double (nullable = true)\n",
      " |-- Snowfall: double (nullable = true)\n",
      " |-- UniqueCarrier_index: double (nullable = true)\n",
      " |-- UniqueCarrier_vector: vector (nullable = true)\n",
      " |-- Dest_index: double (nullable = true)\n",
      " |-- Dest_vector: vector (nullable = true)\n",
      " |-- features: vector (nullable = true)\n",
      "\n"
     ]
    }
   ],
   "source": [
    "from functools import reduce\n",
    "oldColumns = transformed_df.schema.names\n",
    "newColumns = ['Year',\n",
    " 'Quarter',\n",
    " 'Month',\n",
    " 'DayofMonth',\n",
    " 'DayOfWeek',\n",
    " 'UniqueCarrier',\n",
    " 'AirlineID',\n",
    " 'FlightNum',\n",
    " 'OriginAirportID',\n",
    " 'Origin',\n",
    " 'Dest',\n",
    " 'CRSDepTime',\n",
    " 'label',\n",
    " 'Cancelled',\n",
    " 'Flights',\n",
    " 'Distance',\n",
    " 'DistanceGroup',\n",
    "'Avg_Temp',\n",
    " 'Precipitation',\n",
    " 'Snowfall',\n",
    " 'UniqueCarrier_index',\n",
    " 'UniqueCarrier_vector',\n",
    " 'Dest_index',\n",
    " 'Dest_vector',\n",
    " 'features']\n",
    "\n",
    "transformed_df = reduce(lambda data, idx: data.withColumnRenamed(oldColumns[idx], newColumns[idx]), range(len(oldColumns)), transformed_df)\n",
    "transformed_df.printSchema()"
   ]
  },
  {
   "cell_type": "code",
   "execution_count": 393,
   "metadata": {},
   "outputs": [],
   "source": [
    "# Keep relevant columns\n",
    "selection = [\"features\", \"label\"] \n",
    "dataset = transformed_df.select(selection)"
   ]
  },
  {
   "cell_type": "markdown",
   "metadata": {},
   "source": [
    "# Random Forest"
   ]
  },
  {
   "cell_type": "code",
   "execution_count": 394,
   "metadata": {},
   "outputs": [
    {
     "name": "stdout",
     "output_type": "stream",
     "text": [
      "+--------------+-----+--------------------+\n",
      "|predictedLabel|label|            features|\n",
      "+--------------+-----+--------------------+\n",
      "|           0.0|  0.0|(107,[2,16,98,99,...|\n",
      "|           0.0|  0.0|(107,[2,16,98,99,...|\n",
      "|           0.0|  1.0|(107,[2,16,98,99,...|\n",
      "|           0.0|  0.0|(107,[2,16,98,99,...|\n",
      "|           0.0|  0.0|(107,[2,16,98,99,...|\n",
      "+--------------+-----+--------------------+\n",
      "only showing top 5 rows\n",
      "\n",
      "Test Error = 0.225775\n",
      "[StringIndexer_4082bd59dd3ef7795e54, VectorIndexer_46229d3b3c01085cf8df, RandomForestClassificationModel (uid=RandomForestClassifier_48cca2ed74bf702687d4) with 10 trees, IndexToString_416e97dcb1606d73d62a]\n"
     ]
    }
   ],
   "source": [
    "from pyspark.ml import Pipeline\n",
    "from pyspark.ml.classification import RandomForestClassifier\n",
    "from pyspark.ml.feature import IndexToString, StringIndexer, VectorIndexer\n",
    "from pyspark.ml.evaluation import MulticlassClassificationEvaluator\n",
    "from time import *\n",
    "\n",
    "start_time = time()\n",
    "\n",
    "\n",
    "\n",
    "labelIndexer = StringIndexer(inputCol=\"label\", outputCol=\"indexedLabel\").fit(dataset)\n",
    "\n",
    "# Automatically identify categorical features, and index them.\n",
    "# Set maxCategories so features with > 4 distinct values are treated as continuous.\n",
    "featureIndexer =\\\n",
    "    VectorIndexer(inputCol=\"features\", outputCol=\"indexedFeatures\", maxCategories=4).fit(dataset)\n",
    "\n",
    "# Split the data into training and test sets (30% held out for testing)\n",
    "(trainingData, testData) = dataset.randomSplit([0.7, 0.3])\n",
    "\n",
    "# Train a RandomForest model.\n",
    "rf = RandomForestClassifier(labelCol=\"indexedLabel\", featuresCol=\"indexedFeatures\", numTrees=10)\n",
    "\n",
    "# Convert indexed labels back to original labels.\n",
    "labelConverter = IndexToString(inputCol=\"prediction\", outputCol=\"predictedLabel\",\n",
    "                               labels=labelIndexer.labels)\n",
    "\n",
    "# Chain indexers and forest in a Pipeline\n",
    "pipeline = Pipeline(stages=[labelIndexer, featureIndexer, rf, labelConverter])\n",
    "\n",
    "# Train model.  This also runs the indexers.\n",
    "model = pipeline.fit(trainingData)\n",
    "\n",
    "# Make predictions.\n",
    "predictions = model.transform(testData)\n",
    "\n",
    "# Select example rows to display.\n",
    "predictions.select(\"predictedLabel\", \"label\", \"features\").show(5)\n",
    "\n",
    "# Select (prediction, true label) and compute test error\n",
    "evaluator = MulticlassClassificationEvaluator(\n",
    "    labelCol=\"indexedLabel\", predictionCol=\"prediction\", metricName=\"accuracy\")\n",
    "accuracy = evaluator.evaluate(predictions)\n",
    "print(\"Test Error = %g\" % (1.0 - accuracy))\n",
    "\n",
    "print(rfModel)  # summary only"
   ]
  },
  {
   "cell_type": "code",
   "execution_count": 395,
   "metadata": {},
   "outputs": [
    {
     "name": "stdout",
     "output_type": "stream",
     "text": [
      "Test Error = 0.225775\n",
      "Model accuracy = 0.774225\n"
     ]
    }
   ],
   "source": [
    "evaluator = MulticlassClassificationEvaluator(\n",
    "    labelCol=\"indexedLabel\", predictionCol=\"prediction\", metricName=\"accuracy\")\n",
    "accuracy = evaluator.evaluate(predictions)\n",
    "print(\"Test Error = %g\" % (1.0 - accuracy))\n",
    "print(\"Model accuracy = %g\" % (accuracy))"
   ]
  },
  {
   "cell_type": "code",
   "execution_count": null,
   "metadata": {},
   "outputs": [],
   "source": [
    "spark.stop()"
   ]
  },
  {
   "cell_type": "code",
   "execution_count": null,
   "metadata": {},
   "outputs": [],
   "source": []
  },
  {
   "cell_type": "code",
   "execution_count": null,
   "metadata": {},
   "outputs": [],
   "source": []
  },
  {
   "cell_type": "code",
   "execution_count": null,
   "metadata": {},
   "outputs": [],
   "source": []
  }
 ],
 "metadata": {
  "kernelspec": {
   "display_name": "PySpark",
   "language": "python",
   "name": "pyspark"
  },
  "language_info": {
   "codemirror_mode": {
    "name": "ipython",
    "version": 3
   },
   "file_extension": ".py",
   "mimetype": "text/x-python",
   "name": "python",
   "nbconvert_exporter": "python",
   "pygments_lexer": "ipython3",
   "version": "3.6.4"
  }
 },
 "nbformat": 4,
 "nbformat_minor": 2
}
